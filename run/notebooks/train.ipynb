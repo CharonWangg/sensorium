{
 "cells": [
  {
   "cell_type": "code",
   "execution_count": 5,
   "metadata": {
    "collapsed": true,
    "pycharm": {
     "name": "#%%\n"
    }
   },
   "outputs": [],
   "source": [
    "import os\n",
    "os.chdir('/home/charon/project/sensorium/run')\n",
    "import torch\n",
    "from tqdm import tqdm\n",
    "from shallowmind.api.train import train"
   ]
  },
  {
   "cell_type": "code",
   "execution_count": 6,
   "outputs": [],
   "source": [
    "CFG='/home/charon/project/sensorium/run/configs/sensorium_baseline.py'\n",
    "SEED=42\n",
    "GPUS=[0]"
   ],
   "metadata": {
    "collapsed": false,
    "pycharm": {
     "name": "#%%\n"
    }
   }
  },
  {
   "cell_type": "code",
   "execution_count": 8,
   "outputs": [
    {
     "name": "stdout",
     "output_type": "stream",
     "text": [
      "Global seed set to 42\r\n",
      "/home/charon/anaconda3/envs/sensorium/lib/python3.9/site-packages/neuralpredictors/layers/readouts/base.py:72: UserWarning: Use of 'gamma_readout' is deprecated. Please consider using the readout's feature-regularization parameter instead\r\n",
      "  warnings.warn(\r\n",
      "CometLogger will be initialized in online mode\r\n",
      "/home/charon/anaconda3/envs/sensorium/lib/python3.9/site-packages/pytorch_lightning/trainer/connectors/accelerator_connector.py:460: UserWarning: The flag `devices=1` will be ignored, instead the device specific number [0] will be used\r\n",
      "  rank_zero_warn(\r\n",
      "GPU available: True, used: True\r\n",
      "TPU available: False, using: 0 TPU cores\r\n",
      "IPU available: False, using: 0 IPUs\r\n",
      "HPU available: False, using: 0 HPUs\r\n",
      "/home/charon/anaconda3/envs/sensorium/lib/python3.9/site-packages/pytorch_lightning/utilities/parsing.py:107: UserWarning: attribute 'model' removed from hparams because it cannot be pickled\r\n",
      "  rank_zero_warn(f\"attribute '{k}' removed from hparams because it cannot be pickled\")\r\n",
      "/home/charon/anaconda3/envs/sensorium/lib/python3.9/site-packages/pytorch_lightning/callbacks/model_checkpoint.py:611: UserWarning: Checkpoint directory /data2/charon/sensorium/sensorium_baseline/ckpts exists and is not empty.\r\n",
      "  rank_zero_warn(f\"Checkpoint directory {dirpath} exists and is not empty.\")\r\n",
      "LOCAL_RANK: 0 - CUDA_VISIBLE_DEVICES: [0,1,2,3]\r\n",
      "\r\n",
      "  | Name  | Type              | Params\r\n",
      "--------------------------------------------\r\n",
      "0 | model | FiringRateEncoder | 578 K \r\n",
      "--------------------------------------------\r\n",
      "578 K     Trainable params\r\n",
      "0         Non-trainable params\r\n",
      "578 K     Total params\r\n",
      "2.316     Total estimated model params size (MB)\r\n",
      "COMET INFO: Couldn't find a Git repository in '/home/charon/project/sensorium/run' nor in any parent directory. You can override where Comet is looking for a Git Patch by setting the configuration `COMET_GIT_DIRECTORY`\r\n",
      "COMET INFO: Experiment is live on comet.ml https://www.comet.com/charonwangg/sensorium/6a303387b1b84436963ba581b0f64747\r\n",
      "\r\n",
      "Epoch 0:  90%|████████▉ | 35/39 [00:03<00:00, 10.16it/s, loss=3.98e+06, v_num=4747, lr_Adam=0.009, train_loss_step=3.83e+6]\r\n",
      "Validation: 0it [00:00, ?it/s]\u001B[A\r\n",
      "Validation:   0%|          | 0/4 [00:00<?, ?it/s]\u001B[A\r\n",
      "Validation DataLoader 0:   0%|          | 0/4 [00:00<?, ?it/s]\u001B[A\r\n",
      "Epoch 0:  92%|█████████▏| 36/39 [00:04<00:00,  8.92it/s, loss=3.98e+06, v_num=4747, lr_Adam=0.009, train_loss_step=3.83e+6]\r\n",
      "Epoch 0:  95%|█████████▍| 37/39 [00:04<00:00,  9.15it/s, loss=3.98e+06, v_num=4747, lr_Adam=0.009, train_loss_step=3.83e+6]\r\n",
      "Epoch 0:  97%|█████████▋| 38/39 [00:04<00:00,  9.36it/s, loss=3.98e+06, v_num=4747, lr_Adam=0.009, train_loss_step=3.83e+6]\r\n",
      "Epoch 0: 100%|██████████| 39/39 [00:04<00:00,  9.19it/s, loss=3.98e+06, v_num=4747, lr_Adam=0.009, train_loss_step=3.83e+6, val_loss_step=3.72e+6, val_loss_epoch=3.97e+6, val_correlation=0.0643, val_average_correlation=0.126]\r\n",
      "                                                                      \u001B[AMetric val_correlation improved. New best score: 0.064\r\n",
      "Epoch 0: 100%|██████████| 39/39 [00:04<00:00,  9.18it/s, loss=3.98e+06, v_num=4747, lr_Adam=0.009, train_loss_step=3.83e+6, val_loss_step=3.72e+6, val_loss_epoch=3.97e+6, val_correlation=0.0643, val_average_correlation=0.126, train_loss_epoch=4.42e+6]Epoch 0, global step 35: 'val_correlation' reached 0.06431 (best 0.06431), saving model to '/data2/charon/sensorium/sensorium_baseline/ckpts/exp_name=sensorium_baseline-cfg=sensorium_baseline-val_correlation=0.064.ckpt' as top 1\r\n",
      "Epoch 1:  90%|████████▉ | 35/39 [00:03<00:00, 10.18it/s, loss=3.91e+06, v_num=4747, lr_Adam=0.009, train_loss_step=3.86e+6, val_loss_step=3.72e+6, val_loss_epoch=3.97e+6, val_correlation=0.0643, val_average_correlation=0.126, train_loss_epoch=4.42e+6]\r\n",
      "Validation: 0it [00:00, ?it/s]\u001B[A\r\n",
      "Validation:   0%|          | 0/4 [00:00<?, ?it/s]\u001B[A\r\n",
      "Validation DataLoader 0:   0%|          | 0/4 [00:00<?, ?it/s]\u001B[A\r\n",
      "Epoch 1:  92%|█████████▏| 36/39 [00:04<00:00,  8.94it/s, loss=3.91e+06, v_num=4747, lr_Adam=0.009, train_loss_step=3.86e+6, val_loss_step=3.72e+6, val_loss_epoch=3.97e+6, val_correlation=0.0643, val_average_correlation=0.126, train_loss_epoch=4.42e+6]\r\n",
      "Epoch 1:  95%|█████████▍| 37/39 [00:04<00:00,  9.16it/s, loss=3.91e+06, v_num=4747, lr_Adam=0.009, train_loss_step=3.86e+6, val_loss_step=3.72e+6, val_loss_epoch=3.97e+6, val_correlation=0.0643, val_average_correlation=0.126, train_loss_epoch=4.42e+6]\r\n",
      "Epoch 1:  97%|█████████▋| 38/39 [00:04<00:00,  9.37it/s, loss=3.91e+06, v_num=4747, lr_Adam=0.009, train_loss_step=3.86e+6, val_loss_step=3.72e+6, val_loss_epoch=3.97e+6, val_correlation=0.0643, val_average_correlation=0.126, train_loss_epoch=4.42e+6]\r\n",
      "Epoch 1: 100%|██████████| 39/39 [00:04<00:00,  9.26it/s, loss=3.91e+06, v_num=4747, lr_Adam=0.009, train_loss_step=3.86e+6, val_loss_step=3.67e+6, val_loss_epoch=3.92e+6, val_correlation=0.0873, val_average_correlation=0.142, train_loss_epoch=4.42e+6]\r\n",
      "                                                                      \u001B[AMetric val_correlation improved by 0.023 >= min_delta = 0.0001. New best score: 0.087\r\n",
      "Epoch 1: 100%|██████████| 39/39 [00:04<00:00,  9.26it/s, loss=3.91e+06, v_num=4747, lr_Adam=0.009, train_loss_step=3.86e+6, val_loss_step=3.67e+6, val_loss_epoch=3.92e+6, val_correlation=0.0873, val_average_correlation=0.142, train_loss_epoch=3.93e+6]Epoch 1, global step 70: 'val_correlation' reached 0.08730 (best 0.08730), saving model to '/data2/charon/sensorium/sensorium_baseline/ckpts/exp_name=sensorium_baseline-cfg=sensorium_baseline-val_correlation=0.087.ckpt' as top 1\r\n",
      "Epoch 2:  90%|████████▉ | 35/39 [00:03<00:00, 10.24it/s, loss=3.9e+06, v_num=4747, lr_Adam=0.009, train_loss_step=3.75e+6, val_loss_step=3.67e+6, val_loss_epoch=3.92e+6, val_correlation=0.0873, val_average_correlation=0.142, train_loss_epoch=3.93e+6] \r\n",
      "Validation: 0it [00:00, ?it/s]\u001B[A\r\n",
      "Validation:   0%|          | 0/4 [00:00<?, ?it/s]\u001B[A\r\n",
      "Validation DataLoader 0:   0%|          | 0/4 [00:00<?, ?it/s]\u001B[A\r\n",
      "Epoch 2:  92%|█████████▏| 36/39 [00:03<00:00,  9.02it/s, loss=3.9e+06, v_num=4747, lr_Adam=0.009, train_loss_step=3.75e+6, val_loss_step=3.67e+6, val_loss_epoch=3.92e+6, val_correlation=0.0873, val_average_correlation=0.142, train_loss_epoch=3.93e+6]\r\n",
      "Epoch 2:  95%|█████████▍| 37/39 [00:04<00:00,  9.24it/s, loss=3.9e+06, v_num=4747, lr_Adam=0.009, train_loss_step=3.75e+6, val_loss_step=3.67e+6, val_loss_epoch=3.92e+6, val_correlation=0.0873, val_average_correlation=0.142, train_loss_epoch=3.93e+6]\r\n",
      "Epoch 2:  97%|█████████▋| 38/39 [00:04<00:00,  9.46it/s, loss=3.9e+06, v_num=4747, lr_Adam=0.009, train_loss_step=3.75e+6, val_loss_step=3.67e+6, val_loss_epoch=3.92e+6, val_correlation=0.0873, val_average_correlation=0.142, train_loss_epoch=3.93e+6]\r\n",
      "Epoch 2: 100%|██████████| 39/39 [00:04<00:00,  9.34it/s, loss=3.9e+06, v_num=4747, lr_Adam=0.009, train_loss_step=3.75e+6, val_loss_step=3.65e+6, val_loss_epoch=3.88e+6, val_correlation=0.108, val_average_correlation=0.154, train_loss_epoch=3.93e+6] \r\n",
      "                                                                      \u001B[AMetric val_correlation improved by 0.020 >= min_delta = 0.0001. New best score: 0.108\r\n",
      "Epoch 2: 100%|██████████| 39/39 [00:04<00:00,  9.33it/s, loss=3.9e+06, v_num=4747, lr_Adam=0.009, train_loss_step=3.75e+6, val_loss_step=3.65e+6, val_loss_epoch=3.88e+6, val_correlation=0.108, val_average_correlation=0.154, train_loss_epoch=3.9e+6] Epoch 2, global step 105: 'val_correlation' reached 0.10766 (best 0.10766), saving model to '/data2/charon/sensorium/sensorium_baseline/ckpts/exp_name=sensorium_baseline-cfg=sensorium_baseline-val_correlation=0.108.ckpt' as top 1\r\n",
      "Epoch 3:  90%|████████▉ | 35/39 [00:03<00:00, 10.19it/s, loss=3.82e+06, v_num=4747, lr_Adam=0.009, train_loss_step=3.67e+6, val_loss_step=3.65e+6, val_loss_epoch=3.88e+6, val_correlation=0.108, val_average_correlation=0.154, train_loss_epoch=3.9e+6]\r\n",
      "Validation: 0it [00:00, ?it/s]\u001B[A\r\n",
      "Validation:   0%|          | 0/4 [00:00<?, ?it/s]\u001B[A\r\n",
      "Validation DataLoader 0:   0%|          | 0/4 [00:00<?, ?it/s]\u001B[A\r\n",
      "Epoch 3:  92%|█████████▏| 36/39 [00:04<00:00,  8.98it/s, loss=3.82e+06, v_num=4747, lr_Adam=0.009, train_loss_step=3.67e+6, val_loss_step=3.65e+6, val_loss_epoch=3.88e+6, val_correlation=0.108, val_average_correlation=0.154, train_loss_epoch=3.9e+6]\r\n",
      "Epoch 3:  95%|█████████▍| 37/39 [00:04<00:00,  9.20it/s, loss=3.82e+06, v_num=4747, lr_Adam=0.009, train_loss_step=3.67e+6, val_loss_step=3.65e+6, val_loss_epoch=3.88e+6, val_correlation=0.108, val_average_correlation=0.154, train_loss_epoch=3.9e+6]\r\n",
      "Epoch 3:  97%|█████████▋| 38/39 [00:04<00:00,  9.41it/s, loss=3.82e+06, v_num=4747, lr_Adam=0.009, train_loss_step=3.67e+6, val_loss_step=3.65e+6, val_loss_epoch=3.88e+6, val_correlation=0.108, val_average_correlation=0.154, train_loss_epoch=3.9e+6]\r\n",
      "Epoch 3: 100%|██████████| 39/39 [00:04<00:00,  9.26it/s, loss=3.82e+06, v_num=4747, lr_Adam=0.009, train_loss_step=3.67e+6, val_loss_step=3.58e+6, val_loss_epoch=3.82e+6, val_correlation=0.138, val_average_correlation=0.179, train_loss_epoch=3.9e+6]\r\n",
      "                                                                      \u001B[AMetric val_correlation improved by 0.030 >= min_delta = 0.0001. New best score: 0.138\r\n",
      "Epoch 3: 100%|██████████| 39/39 [00:04<00:00,  9.25it/s, loss=3.82e+06, v_num=4747, lr_Adam=0.009, train_loss_step=3.67e+6, val_loss_step=3.58e+6, val_loss_epoch=3.82e+6, val_correlation=0.138, val_average_correlation=0.179, train_loss_epoch=3.84e+6]Epoch 3, global step 140: 'val_correlation' reached 0.13778 (best 0.13778), saving model to '/data2/charon/sensorium/sensorium_baseline/ckpts/exp_name=sensorium_baseline-cfg=sensorium_baseline-val_correlation=0.138.ckpt' as top 1\r\n",
      "Epoch 4:  59%|█████▉    | 23/39 [00:02<00:01,  9.56it/s, loss=3.79e+06, v_num=4747, lr_Adam=0.009, train_loss_step=3.94e+6, val_loss_step=3.58e+6, val_loss_epoch=3.82e+6, val_correlation=0.138, val_average_correlation=0.179, train_loss_epoch=3.84e+6]^C\r\n",
      "/home/charon/anaconda3/envs/sensorium/lib/python3.9/site-packages/pytorch_lightning/trainer/trainer.py:726: UserWarning: Detected KeyboardInterrupt, attempting graceful shutdown...\r\n",
      "  rank_zero_warn(\"Detected KeyboardInterrupt, attempting graceful shutdown...\")\r\n"
     ]
    }
   ],
   "source": [
    "!python train.py --cfg=$CFG --seed=$SEED --gpu_ids=$GPUS"
   ],
   "metadata": {
    "collapsed": false,
    "pycharm": {
     "name": "#%%\n"
    }
   }
  },
  {
   "cell_type": "code",
   "execution_count": null,
   "outputs": [],
   "source": [],
   "metadata": {
    "collapsed": false,
    "pycharm": {
     "name": "#%%\n"
    }
   }
  }
 ],
 "metadata": {
  "kernelspec": {
   "name": "conda-env-sensorium-py",
   "language": "python",
   "display_name": "Python [conda env:sensorium]"
  },
  "language_info": {
   "codemirror_mode": {
    "name": "ipython",
    "version": 2
   },
   "file_extension": ".py",
   "mimetype": "text/x-python",
   "name": "python",
   "nbconvert_exporter": "python",
   "pygments_lexer": "ipython2",
   "version": "2.7.6"
  }
 },
 "nbformat": 4,
 "nbformat_minor": 0
}