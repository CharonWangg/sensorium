{
 "cells": [
  {
   "cell_type": "code",
   "execution_count": 14,
   "outputs": [],
   "source": [
    "import sys\n",
    "import torch\n",
    "from tqdm import tqdm\n",
    "from neuralpredictors.measures.np_functions import corr, fev\n",
    "sys.path.append('/home/charon/project/sensorium/')\n",
    "sys.path.append('/home/charon/project/sensorium/run')\n",
    "from shallowmind.api.infer import prepare_inference\n",
    "from shallowmind.api.eval import test"
   ],
   "metadata": {
    "collapsed": false,
    "pycharm": {
     "name": "#%%\n"
    }
   }
  },
  {
   "cell_type": "code",
   "execution_count": 38,
   "outputs": [
    {
     "name": "stderr",
     "output_type": "stream",
     "text": [
      "/home/charon/anaconda3/envs/sensorium/lib/python3.9/site-packages/neuralpredictors/layers/readouts/base.py:72: UserWarning: Use of 'gamma_readout' is deprecated. Please consider using the readout's feature-regularization parameter instead\n",
      "  warnings.warn(\n"
     ]
    }
   ],
   "source": [
    "cfg = '/data2/charon/sensorium/sensorium_baseline/sensorium_baseline.py'\n",
    "ckpt = '/data2/charon/sensorium/sensorium_baseline/ckpts/exp_name=sensorium_baseline-cfg=sensorium_baseline-val_correlation=0.299.ckpt'\n",
    "di, mi = prepare_inference(cfg, ckpt)\n",
    "# hack to make it work with a subject different from config file\n",
    "# di.hparams.data.test.feature_dir = 'static23656-14-22-GrayImageNet-94c6ff995dac583098847cfecd43e7b6.zip'\n",
    "di.setup()\n",
    "dl = di.val_dataloader()"
   ],
   "metadata": {
    "collapsed": false,
    "pycharm": {
     "name": "#%%\n"
    }
   }
  },
  {
   "cell_type": "code",
   "execution_count": 39,
   "outputs": [
    {
     "name": "stderr",
     "output_type": "stream",
     "text": [
      "100%|████████████████████████████████████████████████████████████████████████████████████████████████████████████████████████████████████████████████████████████████████████████| 4/4 [00:02<00:00,  1.63it/s]\n"
     ]
    },
    {
     "data": {
      "text/plain": "0.29851946"
     },
     "execution_count": 39,
     "metadata": {},
     "output_type": "execute_result"
    }
   ],
   "source": [
    "# single trial correlation\n",
    "preds = []\n",
    "labels = []\n",
    "mi.eval()\n",
    "for i, (x, y) in tqdm(enumerate(dl), total=len(dl)):\n",
    "    pred = mi.model.forward_test(x)['output']\n",
    "    preds.append(pred)\n",
    "    labels.append(y)\n",
    "preds = torch.cat(preds, dim=0).detach().cpu().numpy()\n",
    "labels = torch.cat(labels, dim=0).detach().cpu().numpy()\n",
    "corr(labels, preds, axis=0).mean()"
   ],
   "metadata": {
    "collapsed": false,
    "pycharm": {
     "name": "#%%\n"
    }
   }
  },
  {
   "cell_type": "code",
   "execution_count": 40,
   "outputs": [
    {
     "name": "stderr",
     "output_type": "stream",
     "text": [
      "100%|████████████████████████████████████████████████████████████████████████████████████████████████████████████████████████████████████████████████████████████████████████████| 4/4 [00:02<00:00,  1.64it/s]\n"
     ]
    }
   ],
   "source": [
    "# Average correlation\n",
    "import numpy as np\n",
    "from collections import defaultdict\n",
    "preds = defaultdict(list)\n",
    "labels = defaultdict(list)\n",
    "corrs = []\n",
    "mi.eval()\n",
    "for i, (x, y) in tqdm(enumerate(dl), total=len(dl)):\n",
    "    pred = mi.model.forward_test(x)['output']\n",
    "    preds[x['frame_image_id']].append(pred)\n",
    "    labels[x['frame_image_id']].append(y)\n",
    "for k, v in preds.items():\n",
    "    preds[k] = torch.cat(v, dim=0).detach().cpu().numpy()\n",
    "    labels[k] = torch.cat(labels[k], dim=0).detach().cpu().numpy()\n",
    "    corrs.append(corr(labels[k], preds[k], axis=0).mean())\n",
    "corrs = np.mean(corrs)"
   ],
   "metadata": {
    "collapsed": false,
    "pycharm": {
     "name": "#%%\n"
    }
   }
  },
  {
   "cell_type": "code",
   "execution_count": null,
   "outputs": [],
   "source": [],
   "metadata": {
    "collapsed": false,
    "pycharm": {
     "name": "#%%\n"
    }
   }
  }
 ],
 "metadata": {
  "kernelspec": {
   "name": "conda-env-sensorium-py",
   "language": "python",
   "display_name": "Python [conda env:sensorium]"
  },
  "language_info": {
   "codemirror_mode": {
    "name": "ipython",
    "version": 2
   },
   "file_extension": ".py",
   "mimetype": "text/x-python",
   "name": "python",
   "nbconvert_exporter": "python",
   "pygments_lexer": "ipython2",
   "version": "2.7.6"
  }
 },
 "nbformat": 4,
 "nbformat_minor": 0
}